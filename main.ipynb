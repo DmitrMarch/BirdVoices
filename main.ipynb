{
 "cells": [
  {
   "cell_type": "code",
   "execution_count": 6,
   "id": "a478cf4fafb98aa1",
   "metadata": {},
   "outputs": [
    {
     "name": "stdout",
     "output_type": "stream",
     "text": [
      "Успешная обрезка аудио\n"
     ]
    }
   ],
   "source": [
    "from pydub import AudioSegment\n",
    "import os\n",
    "\n",
    "orig_folder = \"bird_voices\"\n",
    "mod_folder = \"bird_voices_mod\"\n",
    "f_format = \"mp3\"\n",
    "mp3_files = [f for f in os.listdir(orig_folder) if f.lower().endswith(\".mp3\")]\n",
    "\n",
    "for mp3_file in mp3_files:\n",
    "\n",
    "    f = AudioSegment.from_file(\n",
    "        os.path.join(orig_folder, mp3_file),\n",
    "        f_format\n",
    "    )\n",
    "\n",
    "    # оставляем часть файла с 3 секунды без голоса диктора\n",
    "    f = f[3000:]\n",
    "\n",
    "    f.export(\n",
    "        os.path.join(mod_folder, mp3_file),\n",
    "        f_format\n",
    "    )\n",
    "\n",
    "print(\"Успешная обрезка аудио\")"
   ]
  },
  {
   "cell_type": "code",
   "execution_count": 11,
   "id": "e3fa9c46",
   "metadata": {},
   "outputs": [
    {
     "name": "stderr",
     "output_type": "stream",
     "text": [
      "  0%|          | 0/12 [00:00<?, ?it/s]"
     ]
    },
    {
     "name": "stderr",
     "output_type": "stream",
     "text": [
      "100%|██████████| 12/12 [00:24<00:00,  2.02s/it]"
     ]
    },
    {
     "name": "stdout",
     "output_type": "stream",
     "text": [
      "Обработка завершена! Все сегменты сохранены в mel_data\n"
     ]
    },
    {
     "name": "stderr",
     "output_type": "stream",
     "text": [
      "\n"
     ]
    }
   ],
   "source": [
    "import os\n",
    "import torchaudio\n",
    "import numpy as np\n",
    "from tqdm import tqdm\n",
    "import librosa\n",
    "import torch\n",
    "\n",
    "# Настройки\n",
    "input_dir = \"bird_voices_mod\"      # папка с обрезанными аудиофайлами\n",
    "output_dir = \"mel_data\"      # куда сохранять мел-спектрограммы\n",
    "segment_length = 5.0         # длина сегмента в секундах\n",
    "sample_rate = 16000          # частота дискретизации\n",
    "n_mels = 64                  # число мел-фильтров\n",
    "\n",
    "os.makedirs(output_dir, exist_ok=True)\n",
    "\n",
    "# Функция для разбиения и преобразования\n",
    "def process_audio(file_path, label):\n",
    "    y, sr = librosa.load(file_path, sr=sample_rate, mono=True)\n",
    "    waveform = torch.tensor(y).unsqueeze(0)  # [1, time]\n",
    "\n",
    "    total_duration = waveform.shape[1] / sample_rate\n",
    "    num_segments = int(total_duration // segment_length)\n",
    "    if num_segments == 0:\n",
    "        num_segments = 1  # короткие файлы\n",
    "\n",
    "    mel_transform = torchaudio.transforms.MelSpectrogram(\n",
    "        sample_rate=sample_rate, n_mels=n_mels\n",
    "    )\n",
    "\n",
    "    label_dir = os.path.join(output_dir, label)\n",
    "    os.makedirs(label_dir, exist_ok=True)\n",
    "\n",
    "    for i in range(num_segments):\n",
    "        start = int(i * segment_length * sample_rate)\n",
    "        end = int((i + 1) * segment_length * sample_rate)\n",
    "        segment = waveform[:, start:end]\n",
    "\n",
    "        if segment.shape[1] < sample_rate * 1:\n",
    "            continue  # пропускаем совсем короткие куски\n",
    "\n",
    "        mel = mel_transform(segment)\n",
    "        mel_db = torchaudio.functional.amplitude_to_DB(mel, multiplier=10.0, amin=1e-10, db_multiplier=0.0)\n",
    "\n",
    "        # Нормализация\n",
    "        mel_db = (mel_db - mel_db.mean()) / (mel_db.std() + 1e-6)\n",
    "\n",
    "        base = os.path.splitext(os.path.basename(file_path))[0]\n",
    "        out_path = os.path.join(label_dir, f\"{base}_{i}.npy\")\n",
    "        np.save(out_path, mel_db.numpy())\n",
    "\n",
    "# Основной цикл\n",
    "for fname in tqdm(os.listdir(input_dir)):\n",
    "    if not fname.endswith(\".mp3\"):\n",
    "        continue\n",
    "    label = fname.split('_')[0]  # например \"sparrow_001.mp3\" → \"sparrow\"\n",
    "    fpath = os.path.join(input_dir, fname)\n",
    "    process_audio(fpath, label)\n",
    "\n",
    "print(\"Обработка завершена! Все сегменты сохранены в mel_data\")\n"
   ]
  }
 ],
 "metadata": {
  "kernelspec": {
   "display_name": ".venv",
   "language": "python",
   "name": "python3"
  },
  "language_info": {
   "codemirror_mode": {
    "name": "ipython",
    "version": 3
   },
   "file_extension": ".py",
   "mimetype": "text/x-python",
   "name": "python",
   "nbconvert_exporter": "python",
   "pygments_lexer": "ipython3",
   "version": "3.10.8"
  }
 },
 "nbformat": 4,
 "nbformat_minor": 5
}
