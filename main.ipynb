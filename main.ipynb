{
 "cells": [
  {
   "cell_type": "code",
   "execution_count": null,
   "id": "a478cf4fafb98aa1",
   "metadata": {},
   "outputs": [
    {
     "name": "stdout",
     "output_type": "stream",
     "text": [
      "successful end\n"
     ]
    }
   ],
   "source": [
    "from pydub import AudioSegment\n",
    "import os\n",
    "\n",
    "orig_folder = \"Голоса птиц\"\n",
    "mod_folder = \"Голоса птиц мод\"\n",
    "f_format = \"mp3\"\n",
    "mp3_files = [f for f in os.listdir(orig_folder) if f.lower().endswith(\".mp3\")]\n",
    "\n",
    "for mp3_file in mp3_files:\n",
    "\n",
    "    f = AudioSegment.from_file(\n",
    "        os.path.join(orig_folder, mp3_file),\n",
    "        f_format\n",
    "    )\n",
    "\n",
    "    # оставляем часть файла с 3 секунды без голоса диктора\n",
    "    f = f[3000:]\n",
    "\n",
    "    f.export(\n",
    "        os.path.join(mod_folder, mp3_file),\n",
    "        f_format\n",
    "    )\n",
    "\n",
    "print(\"successful end\")"
   ]
  }
 ],
 "metadata": {
  "kernelspec": {
   "display_name": ".venv",
   "language": "python",
   "name": "python3"
  },
  "language_info": {
   "codemirror_mode": {
    "name": "ipython",
    "version": 3
   },
   "file_extension": ".py",
   "mimetype": "text/x-python",
   "name": "python",
   "nbconvert_exporter": "python",
   "pygments_lexer": "ipython3",
   "version": "3.10.8"
  }
 },
 "nbformat": 4,
 "nbformat_minor": 5
}
